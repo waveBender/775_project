{
 "cells": [
  {
   "cell_type": "code",
   "execution_count": 1,
   "metadata": {},
   "outputs": [],
   "source": [
    "from mpl_toolkits.mplot3d import Axes3D\n",
    "\n",
    "import os\n",
    "import h5py\n",
    "import numpy as np\n",
    "import matplotlib.pyplot as plt\n",
    "\n",
    "import SRepClass as srep"
   ]
  },
  {
   "cell_type": "code",
   "execution_count": 2,
   "metadata": {},
   "outputs": [],
   "source": [
    "np.random.seed( seed=2718)"
   ]
  },
  {
   "cell_type": "code",
   "execution_count": 3,
   "metadata": {},
   "outputs": [],
   "source": [
    "train_ratio = 0.8\n",
    "\n",
    "neg_folder = '../refined_sreps/salt/neg/v06Correct/'\n",
    "pos_folder = '../refined_sreps/salt/pos/v06Correct/'\n",
    "\n",
    "h5_filename = './data/medicalnet02_cloud.h5'"
   ]
  },
  {
   "cell_type": "code",
   "execution_count": 4,
   "metadata": {},
   "outputs": [],
   "source": [
    "def get_srep_pnts( filename ):\n",
    "    srep_obj = srep.SRep( filename )\n",
    "    \n",
    "    upPnts = srep_obj.upPoints[1::2,:]\n",
    "    dnPnts = srep_obj.downPoints[1::2,:]\n",
    "    crPnts = srep_obj.crestPoints[1::2,:]\n",
    "    \n",
    "    allPnts = np.concatenate( [upPnts,dnPnts,crPnts], axis=0 )\n",
    "    \n",
    "    return np.random.permutation( allPnts ) # we don't want the network to learn something order related"
   ]
  },
  {
   "cell_type": "code",
   "execution_count": 5,
   "metadata": {},
   "outputs": [],
   "source": [
    "def pnts_from_dir( folder ):\n",
    "    # TODO:\n",
    "    # check for folder existance\n",
    "    sfolders = os.listdir( folder )\n",
    "    # TODO:\n",
    "    # should check sfolders for empty\n",
    "    \n",
    "    allPnts = []\n",
    "    for sfold in sfolders:\n",
    "        # Assumption-01:\n",
    "        # pnts is always the same size\n",
    "        pnts = get_srep_pnts( os.path.join( folder, sfold, \"header.xml\" ) )\n",
    "        \n",
    "        allPnts.append( pnts )\n",
    "    \n",
    "    # This will break if Assumption-01 is not met\n",
    "    return np.array( allPnts )"
   ]
  },
  {
   "cell_type": "code",
   "execution_count": 6,
   "metadata": {},
   "outputs": [],
   "source": [
    "neg_pnts = pnts_from_dir( neg_folder )\n",
    "pos_pnts = pnts_from_dir( pos_folder )"
   ]
  },
  {
   "cell_type": "code",
   "execution_count": 7,
   "metadata": {},
   "outputs": [],
   "source": [
    "neg_train_num = int( 0.8 * np.shape( neg_pnts )[0] )\n",
    "pos_train_num = int( 0.8 * np.shape( pos_pnts )[0] )\n",
    "\n",
    "neg_pnts_trn = neg_pnts[0:neg_train_num]\n",
    "neg_pnts_tst = neg_pnts[neg_train_num:]\n",
    "neg_lbls_trn = np.zeros( (neg_train_num), int )\n",
    "neg_lbls_tst = np.zeros( (len(neg_pnts_tst)), int )\n",
    "\n",
    "pos_pnts_trn = pos_pnts[0:pos_train_num]\n",
    "pos_pnts_tst = pos_pnts[pos_train_num:]\n",
    "pos_lbls_trn = np.ones( (pos_train_num), int )\n",
    "pos_lbls_tst = np.ones( (len(pos_pnts_tst)), int )"
   ]
  },
  {
   "cell_type": "code",
   "execution_count": 8,
   "metadata": {},
   "outputs": [],
   "source": [
    "trn_data = np.concatenate( (neg_pnts_trn, pos_pnts_trn), axis=0 )\n",
    "trn_lbls = np.concatenate( (neg_lbls_trn, pos_lbls_trn), axis=0 )\n",
    "\n",
    "trn_ind = np.random.permutation( len( trn_data ) )\n",
    "trn_data = trn_data[trn_ind]\n",
    "trn_lbls = trn_lbls[trn_ind]"
   ]
  },
  {
   "cell_type": "code",
   "execution_count": 9,
   "metadata": {},
   "outputs": [],
   "source": [
    "tst_data = np.concatenate( (neg_pnts_tst, pos_pnts_tst), axis=0 )\n",
    "tst_lbls = np.concatenate( (neg_lbls_tst, pos_lbls_tst), axis=0 )\n",
    "\n",
    "tst_ind = np.random.permutation( len( tst_data ) )\n",
    "tst_data = tst_data[tst_ind]\n",
    "tst_lbls = tst_lbls[tst_ind]"
   ]
  },
  {
   "cell_type": "code",
   "execution_count": 10,
   "metadata": {},
   "outputs": [
    {
     "ename": "NameError",
     "evalue": "name 'err' is not defined",
     "output_type": "error",
     "traceback": [
      "\u001b[0;31m---------------------------------------------------------------------------\u001b[0m",
      "\u001b[0;31mNameError\u001b[0m                                 Traceback (most recent call last)",
      "\u001b[0;32m<ipython-input-10-ea5d7e39dd60>\u001b[0m in \u001b[0;36m<module>\u001b[0;34m\u001b[0m\n\u001b[0;32m----> 1\u001b[0;31m \u001b[0merr\u001b[0m\u001b[0;34m\u001b[0m\u001b[0m\n\u001b[0m",
      "\u001b[0;31mNameError\u001b[0m: name 'err' is not defined"
     ]
    }
   ],
   "source": [
    "err"
   ]
  },
  {
   "cell_type": "code",
   "execution_count": null,
   "metadata": {},
   "outputs": [],
   "source": [
    "with h5py.File( h5_filename, 'w' ) as hf:\n",
    "    hf.create_dataset( 'tr_cloud',  data=trn_data )\n",
    "    hf.create_dataset( 'tr_labels', data=trn_lbls )\n",
    "    \n",
    "    hf.create_dataset( 'test_cloud',  data=tst_data )\n",
    "    hf.create_dataset( 'test_labels', data=tst_lbls )"
   ]
  },
  {
   "cell_type": "code",
   "execution_count": null,
   "metadata": {},
   "outputs": [],
   "source": []
  }
 ],
 "metadata": {
  "kernelspec": {
   "display_name": "Python 3",
   "language": "python",
   "name": "python3"
  },
  "language_info": {
   "codemirror_mode": {
    "name": "ipython",
    "version": 3
   },
   "file_extension": ".py",
   "mimetype": "text/x-python",
   "name": "python",
   "nbconvert_exporter": "python",
   "pygments_lexer": "ipython3",
   "version": "3.6.3"
  }
 },
 "nbformat": 4,
 "nbformat_minor": 2
}
