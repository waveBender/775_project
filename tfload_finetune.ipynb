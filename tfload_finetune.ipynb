{
 "cells": [
  {
   "cell_type": "code",
   "execution_count": 1,
   "metadata": {},
   "outputs": [
    {
     "name": "stdout",
     "output_type": "stream",
     "text": [
      "The tensorflow version is 1.11.0.\n"
     ]
    }
   ],
   "source": [
    "import os\n",
    "\n",
    "import numpy as np\n",
    "import matplotlib.pyplot as plt\n",
    "\n",
    "from sklearn.metrics import roc_curve, auc\n",
    "\n",
    "import tensorflow as tf\n",
    "from tensorflow.python.saved_model import tag_constants\n",
    "\n",
    "from setlearn.data import modelnet as dmodel\n",
    "\n",
    "print( \"The tensorflow version is {}.\".format( tf.__version__ ) )"
   ]
  },
  {
   "cell_type": "code",
   "execution_count": 2,
   "metadata": {},
   "outputs": [],
   "source": [
    "np.random.seed( seed=10001 ) # 2718 ) # \n",
    "tf.set_random_seed( 10001 ) # 2718 ) # "
   ]
  },
  {
   "cell_type": "code",
   "execution_count": 3,
   "metadata": {},
   "outputs": [],
   "source": [
    "EPOCHS = 100 # pick something that makes you happy\n",
    "NUM_CLASSES = 2 # held out for fine-tuning\n",
    "\n",
    "NUM_FEATURES = 256 # inherited from the JO's deepset model"
   ]
  },
  {
   "cell_type": "code",
   "execution_count": 4,
   "metadata": {},
   "outputs": [],
   "source": [
    "num_points = 10000\n",
    "model_path = './model_test_92/' # the highest numbered model_test should have the best accuracy\n",
    "data_path  = './data/ModelNet38_cloud.h5' # the training data (probably don't need)\n",
    "\n",
    "# retrain_path = './data/ModelNet02_cloud.h5' # held out data file\n",
    "# task_name = 'air_bed_{}'.format( num_points )\n",
    "\n",
    "# retrain_path = './data/ModelNet02_cloud.h5' # held out data file\n",
    "# task_name = 'bowl_cone_{}'.format( num_points )\n",
    "\n",
    "retrain_path = './data/medicalnet02_cloud.h5' # held out data file\n",
    "task_name = 'med_{}'.format( num_points )\n",
    "\n",
    "batch_size = 12 # 128 # pick something that best utilizes the gpu"
   ]
  },
  {
   "cell_type": "code",
   "execution_count": 5,
   "metadata": {},
   "outputs": [],
   "source": [
    "img_path = os.path.join( '../images/', task_name )\n",
    "os.makedirs( img_path, exist_ok=True )"
   ]
  },
  {
   "cell_type": "code",
   "execution_count": 6,
   "metadata": {},
   "outputs": [],
   "source": [
    "retrain_fetcher = dmodel.ModelFetcher( \n",
    "    retrain_path, \n",
    "    batch_size=batch_size, \n",
    ")"
   ]
  },
  {
   "cell_type": "code",
   "execution_count": 7,
   "metadata": {},
   "outputs": [],
   "source": [
    "loss_val = 0 # initialize loss value"
   ]
  },
  {
   "cell_type": "code",
   "execution_count": 8,
   "metadata": {},
   "outputs": [
    {
     "name": "stdout",
     "output_type": "stream",
     "text": [
      "WARNING:tensorflow:From /home/jovyan/.local/lib/python3.6/site-packages/tensorflow/python/util/tf_should_use.py:189: initialize_all_variables (from tensorflow.python.ops.variables) is deprecated and will be removed after 2017-03-02.\n",
      "Instructions for updating:\n",
      "Use `tf.global_variables_initializer` instead.\n",
      "Restoring model...\n",
      "INFO:tensorflow:Restoring parameters from ./model_test_92/variables/variables\n",
      "restored!\n",
      "WARNING:tensorflow:From <ipython-input-8-732c59beb739>:61: softmax_cross_entropy_with_logits (from tensorflow.python.ops.nn_ops) is deprecated and will be removed in a future version.\n",
      "Instructions for updating:\n",
      "\n",
      "Future major versions of TensorFlow will allow gradients to flow\n",
      "into the labels input on backprop by default.\n",
      "\n",
      "See `tf.nn.softmax_cross_entropy_with_logits_v2`.\n",
      "\n"
     ]
    },
    {
     "name": "stderr",
     "output_type": "stream",
     "text": [
      "Train loss: 0.0000:   0%|          | 0/11 [00:00<?, ?it/s]"
     ]
    },
    {
     "name": "stdout",
     "output_type": "stream",
     "text": [
      "Begin training!\n"
     ]
    },
    {
     "name": "stderr",
     "output_type": "stream",
     "text": [
      "Train loss: 0.0000: 100%|██████████| 11/11 [00:00<00:00, 50.61it/s]\n",
      "Test Iterations:  67%|██████▋   | 2/3 [00:00<00:00, 38.06it/s]\n",
      "Train loss: 0.0000: 100%|██████████| 11/11 [00:00<00:00, 658.23it/s]\n",
      "Test Iterations:  67%|██████▋   | 2/3 [00:00<00:00, 458.27it/s]\n",
      "Train loss: 0.0000: 100%|██████████| 11/11 [00:00<00:00, 560.87it/s]\n",
      "Test Iterations:  67%|██████▋   | 2/3 [00:00<00:00, 468.77it/s]\n",
      "Train loss: 0.0000: 100%|██████████| 11/11 [00:00<00:00, 493.45it/s]\n",
      "Test Iterations:  67%|██████▋   | 2/3 [00:00<00:00, 582.50it/s]\n",
      "Train loss: 0.0000: 100%|██████████| 11/11 [00:00<00:00, 483.90it/s]\n",
      "Test Iterations:  67%|██████▋   | 2/3 [00:00<00:00, 578.44it/s]\n",
      "Train loss: 0.0000: 100%|██████████| 11/11 [00:00<00:00, 626.63it/s]\n",
      "Test Iterations:  67%|██████▋   | 2/3 [00:00<00:00, 491.63it/s]\n",
      "Train loss: 0.0000: 100%|██████████| 11/11 [00:00<00:00, 475.81it/s]\n",
      "Test Iterations:  67%|██████▋   | 2/3 [00:00<00:00, 468.66it/s]\n",
      "Train loss: 0.0000: 100%|██████████| 11/11 [00:00<00:00, 552.98it/s]\n",
      "Test Iterations:  67%|██████▋   | 2/3 [00:00<00:00, 405.07it/s]\n",
      "Train loss: 0.0000: 100%|██████████| 11/11 [00:00<00:00, 551.74it/s]\n",
      "Test Iterations:  67%|██████▋   | 2/3 [00:00<00:00, 388.33it/s]\n",
      "Train loss: 0.0000: 100%|██████████| 11/11 [00:00<00:00, 472.44it/s]\n",
      "Test Iterations:  67%|██████▋   | 2/3 [00:00<00:00, 490.82it/s]\n",
      "Train loss: 0.0000: 100%|██████████| 11/11 [00:00<00:00, 613.46it/s]\n",
      "Test Iterations:  67%|██████▋   | 2/3 [00:00<00:00, 451.53it/s]\n",
      "Train loss: 0.0000: 100%|██████████| 11/11 [00:00<00:00, 540.54it/s]\n",
      "Test Iterations:  67%|██████▋   | 2/3 [00:00<00:00, 387.41it/s]\n",
      "Train loss: 0.0000: 100%|██████████| 11/11 [00:00<00:00, 487.71it/s]\n",
      "Test Iterations:  67%|██████▋   | 2/3 [00:00<00:00, 495.52it/s]\n",
      "Train loss: 0.0000: 100%|██████████| 11/11 [00:00<00:00, 478.38it/s]\n",
      "Test Iterations:  67%|██████▋   | 2/3 [00:00<00:00, 473.24it/s]\n",
      "Train loss: 0.0000: 100%|██████████| 11/11 [00:00<00:00, 490.08it/s]\n",
      "Test Iterations:  67%|██████▋   | 2/3 [00:00<00:00, 603.37it/s]\n",
      "Train loss: 0.0000: 100%|██████████| 11/11 [00:00<00:00, 504.37it/s]\n",
      "Test Iterations:  67%|██████▋   | 2/3 [00:00<00:00, 515.52it/s]\n",
      "Train loss: 0.0000: 100%|██████████| 11/11 [00:00<00:00, 537.83it/s]\n",
      "Test Iterations:  67%|██████▋   | 2/3 [00:00<00:00, 416.04it/s]\n",
      "Train loss: 0.0000: 100%|██████████| 11/11 [00:00<00:00, 532.01it/s]\n",
      "Test Iterations:  67%|██████▋   | 2/3 [00:00<00:00, 458.09it/s]\n",
      "Train loss: 0.0000: 100%|██████████| 11/11 [00:00<00:00, 502.62it/s]\n",
      "Test Iterations:  67%|██████▋   | 2/3 [00:00<00:00, 419.37it/s]\n",
      "Train loss: 0.0000: 100%|██████████| 11/11 [00:00<00:00, 497.13it/s]\n",
      "Test Iterations:  67%|██████▋   | 2/3 [00:00<00:00, 449.86it/s]\n",
      "Train loss: 0.0000: 100%|██████████| 11/11 [00:00<00:00, 510.88it/s]\n",
      "Test Iterations:  67%|██████▋   | 2/3 [00:00<00:00, 502.61it/s]\n",
      "Train loss: 0.0000: 100%|██████████| 11/11 [00:00<00:00, 504.28it/s]\n",
      "Test Iterations:  67%|██████▋   | 2/3 [00:00<00:00, 595.61it/s]\n",
      "Train loss: 0.0000: 100%|██████████| 11/11 [00:00<00:00, 525.93it/s]\n",
      "Test Iterations:  67%|██████▋   | 2/3 [00:00<00:00, 627.19it/s]\n",
      "Train loss: 0.0000: 100%|██████████| 11/11 [00:00<00:00, 523.72it/s]\n",
      "Test Iterations:  67%|██████▋   | 2/3 [00:00<00:00, 522.33it/s]\n",
      "Train loss: 0.0000: 100%|██████████| 11/11 [00:00<00:00, 612.95it/s]\n",
      "Test Iterations:  67%|██████▋   | 2/3 [00:00<00:00, 623.60it/s]\n",
      "Train loss: 0.0000: 100%|██████████| 11/11 [00:00<00:00, 505.53it/s]\n",
      "Test Iterations:  67%|██████▋   | 2/3 [00:00<00:00, 509.51it/s]\n",
      "Train loss: 0.0000: 100%|██████████| 11/11 [00:00<00:00, 501.99it/s]\n",
      "Test Iterations:  67%|██████▋   | 2/3 [00:00<00:00, 571.08it/s]\n",
      "Train loss: 0.0000: 100%|██████████| 11/11 [00:00<00:00, 543.51it/s]\n",
      "Test Iterations:  67%|██████▋   | 2/3 [00:00<00:00, 526.76it/s]\n",
      "Train loss: 0.0000: 100%|██████████| 11/11 [00:00<00:00, 601.37it/s]\n",
      "Test Iterations:  67%|██████▋   | 2/3 [00:00<00:00, 535.09it/s]\n",
      "Train loss: 0.0000: 100%|██████████| 11/11 [00:00<00:00, 529.92it/s]\n",
      "Test Iterations:  67%|██████▋   | 2/3 [00:00<00:00, 386.09it/s]\n",
      "Train loss: 0.0000: 100%|██████████| 11/11 [00:00<00:00, 525.83it/s]\n",
      "Test Iterations:  67%|██████▋   | 2/3 [00:00<00:00, 416.97it/s]\n",
      "Train loss: 0.0000: 100%|██████████| 11/11 [00:00<00:00, 539.64it/s]\n",
      "Test Iterations:  67%|██████▋   | 2/3 [00:00<00:00, 543.87it/s]\n",
      "Train loss: 0.0000: 100%|██████████| 11/11 [00:00<00:00, 639.82it/s]\n",
      "Test Iterations:  67%|██████▋   | 2/3 [00:00<00:00, 365.18it/s]\n",
      "Train loss: 0.0000: 100%|██████████| 11/11 [00:00<00:00, 569.70it/s]\n",
      "Test Iterations:  67%|██████▋   | 2/3 [00:00<00:00, 598.84it/s]\n",
      "Train loss: 0.0000: 100%|██████████| 11/11 [00:00<00:00, 481.27it/s]\n",
      "Test Iterations:  67%|██████▋   | 2/3 [00:00<00:00, 600.39it/s]\n",
      "Train loss: 0.0000: 100%|██████████| 11/11 [00:00<00:00, 496.69it/s]\n",
      "Test Iterations:  67%|██████▋   | 2/3 [00:00<00:00, 476.11it/s]\n",
      "Train loss: 0.0000: 100%|██████████| 11/11 [00:00<00:00, 529.41it/s]\n",
      "Test Iterations:  67%|██████▋   | 2/3 [00:00<00:00, 557.60it/s]\n",
      "Train loss: 0.0000: 100%|██████████| 11/11 [00:00<00:00, 597.56it/s]\n",
      "Test Iterations:  67%|██████▋   | 2/3 [00:00<00:00, 699.81it/s]\n",
      "Train loss: 0.0000: 100%|██████████| 11/11 [00:00<00:00, 537.71it/s]\n",
      "Test Iterations:  67%|██████▋   | 2/3 [00:00<00:00, 663.03it/s]\n",
      "Train loss: 0.0000: 100%|██████████| 11/11 [00:00<00:00, 588.24it/s]\n",
      "Test Iterations:  67%|██████▋   | 2/3 [00:00<00:00, 616.22it/s]\n",
      "Train loss: 0.0000: 100%|██████████| 11/11 [00:00<00:00, 544.77it/s]\n",
      "Test Iterations:  67%|██████▋   | 2/3 [00:00<00:00, 624.43it/s]\n",
      "Train loss: 0.0000: 100%|██████████| 11/11 [00:00<00:00, 557.82it/s]\n",
      "Test Iterations:  67%|██████▋   | 2/3 [00:00<00:00, 673.51it/s]\n",
      "Train loss: 0.0000: 100%|██████████| 11/11 [00:00<00:00, 614.51it/s]\n",
      "Test Iterations:  67%|██████▋   | 2/3 [00:00<00:00, 685.40it/s]\n",
      "Train loss: 0.0000: 100%|██████████| 11/11 [00:00<00:00, 624.46it/s]\n",
      "Test Iterations:  67%|██████▋   | 2/3 [00:00<00:00, 512.00it/s]\n",
      "Train loss: 0.0000: 100%|██████████| 11/11 [00:00<00:00, 563.15it/s]\n",
      "Test Iterations:  67%|██████▋   | 2/3 [00:00<00:00, 576.89it/s]\n",
      "Train loss: 0.0000: 100%|██████████| 11/11 [00:00<00:00, 587.16it/s]\n",
      "Test Iterations:  67%|██████▋   | 2/3 [00:00<00:00, 606.99it/s]\n",
      "Train loss: 0.0000: 100%|██████████| 11/11 [00:00<00:00, 596.27it/s]\n",
      "Test Iterations:  67%|██████▋   | 2/3 [00:00<00:00, 773.57it/s]\n",
      "Train loss: 0.0000: 100%|██████████| 11/11 [00:00<00:00, 544.22it/s]\n",
      "Test Iterations:  67%|██████▋   | 2/3 [00:00<00:00, 533.83it/s]\n",
      "Train loss: 0.0000: 100%|██████████| 11/11 [00:00<00:00, 642.52it/s]\n",
      "Test Iterations:  67%|██████▋   | 2/3 [00:00<00:00, 648.62it/s]\n",
      "Train loss: 0.0000: 100%|██████████| 11/11 [00:00<00:00, 539.17it/s]\n",
      "Test Iterations:  67%|██████▋   | 2/3 [00:00<00:00, 413.09it/s]\n",
      "Train loss: 0.0000: 100%|██████████| 11/11 [00:00<00:00, 625.41it/s]\n",
      "Test Iterations:  67%|██████▋   | 2/3 [00:00<00:00, 768.26it/s]\n",
      "Train loss: 0.0000: 100%|██████████| 11/11 [00:00<00:00, 561.81it/s]\n",
      "Test Iterations:  67%|██████▋   | 2/3 [00:00<00:00, 443.21it/s]\n",
      "Train loss: 0.0000: 100%|██████████| 11/11 [00:00<00:00, 640.25it/s]\n",
      "Test Iterations:  67%|██████▋   | 2/3 [00:00<00:00, 649.93it/s]\n",
      "Train loss: 0.0000: 100%|██████████| 11/11 [00:00<00:00, 601.81it/s]\n",
      "Test Iterations:  67%|██████▋   | 2/3 [00:00<00:00, 526.79it/s]\n",
      "Train loss: 0.0000: 100%|██████████| 11/11 [00:00<00:00, 599.60it/s]\n",
      "Test Iterations:  67%|██████▋   | 2/3 [00:00<00:00, 520.58it/s]\n",
      "Train loss: 0.0000: 100%|██████████| 11/11 [00:00<00:00, 562.99it/s]\n",
      "Test Iterations:  67%|██████▋   | 2/3 [00:00<00:00, 452.39it/s]\n",
      "Train loss: 0.0000: 100%|██████████| 11/11 [00:00<00:00, 508.67it/s]\n",
      "Test Iterations:  67%|██████▋   | 2/3 [00:00<00:00, 563.07it/s]\n",
      "Train loss: 0.0000: 100%|██████████| 11/11 [00:00<00:00, 565.66it/s]\n",
      "Test Iterations:  67%|██████▋   | 2/3 [00:00<00:00, 515.43it/s]\n",
      "Train loss: 0.0000: 100%|██████████| 11/11 [00:00<00:00, 599.40it/s]\n",
      "Test Iterations:  67%|██████▋   | 2/3 [00:00<00:00, 615.72it/s]\n",
      "Train loss: 0.0000: 100%|██████████| 11/11 [00:00<00:00, 595.06it/s]\n",
      "Test Iterations:  67%|██████▋   | 2/3 [00:00<00:00, 542.21it/s]\n",
      "Train loss: 0.0000: 100%|██████████| 11/11 [00:00<00:00, 568.12it/s]\n",
      "Test Iterations:  67%|██████▋   | 2/3 [00:00<00:00, 645.67it/s]\n",
      "Train loss: 0.0000: 100%|██████████| 11/11 [00:00<00:00, 559.39it/s]\n",
      "Test Iterations:  67%|██████▋   | 2/3 [00:00<00:00, 542.67it/s]\n",
      "Train loss: 0.0000: 100%|██████████| 11/11 [00:00<00:00, 571.43it/s]\n",
      "Test Iterations:  67%|██████▋   | 2/3 [00:00<00:00, 656.49it/s]\n",
      "Train loss: 0.0000: 100%|██████████| 11/11 [00:00<00:00, 602.90it/s]\n",
      "Test Iterations:  67%|██████▋   | 2/3 [00:00<00:00, 690.82it/s]\n",
      "Train loss: 0.0000: 100%|██████████| 11/11 [00:00<00:00, 564.65it/s]\n",
      "Test Iterations:  67%|██████▋   | 2/3 [00:00<00:00, 652.71it/s]\n",
      "Train loss: 0.0000: 100%|██████████| 11/11 [00:00<00:00, 527.37it/s]\n",
      "Test Iterations:  67%|██████▋   | 2/3 [00:00<00:00, 618.22it/s]\n",
      "Train loss: 0.0000: 100%|██████████| 11/11 [00:00<00:00, 550.74it/s]\n",
      "Test Iterations:  67%|██████▋   | 2/3 [00:00<00:00, 604.41it/s]\n",
      "Train loss: 0.0000: 100%|██████████| 11/11 [00:00<00:00, 539.31it/s]\n",
      "Test Iterations:  67%|██████▋   | 2/3 [00:00<00:00, 505.25it/s]\n",
      "Train loss: 0.0000: 100%|██████████| 11/11 [00:00<00:00, 669.33it/s]\n",
      "Test Iterations:  67%|██████▋   | 2/3 [00:00<00:00, 350.90it/s]\n",
      "Train loss: 0.0000: 100%|██████████| 11/11 [00:00<00:00, 595.24it/s]\n",
      "Test Iterations:  67%|██████▋   | 2/3 [00:00<00:00, 436.84it/s]\n",
      "Train loss: 0.0000: 100%|██████████| 11/11 [00:00<00:00, 581.16it/s]\n",
      "Test Iterations:  67%|██████▋   | 2/3 [00:00<00:00, 657.93it/s]\n",
      "Train loss: 0.0000: 100%|██████████| 11/11 [00:00<00:00, 607.73it/s]\n",
      "Test Iterations:  67%|██████▋   | 2/3 [00:00<00:00, 788.11it/s]\n",
      "Train loss: 0.0000: 100%|██████████| 11/11 [00:00<00:00, 518.09it/s]\n",
      "Test Iterations:  67%|██████▋   | 2/3 [00:00<00:00, 546.45it/s]\n",
      "Train loss: 0.0000: 100%|██████████| 11/11 [00:00<00:00, 575.91it/s]\n",
      "Test Iterations:  67%|██████▋   | 2/3 [00:00<00:00, 588.76it/s]\n",
      "Train loss: 0.0000: 100%|██████████| 11/11 [00:00<00:00, 547.38it/s]\n",
      "Test Iterations:  67%|██████▋   | 2/3 [00:00<00:00, 587.36it/s]\n",
      "Train loss: 0.0000: 100%|██████████| 11/11 [00:00<00:00, 581.24it/s]\n",
      "Test Iterations:  67%|██████▋   | 2/3 [00:00<00:00, 473.99it/s]\n",
      "Train loss: 0.0000: 100%|██████████| 11/11 [00:00<00:00, 594.25it/s]\n",
      "Test Iterations:  67%|██████▋   | 2/3 [00:00<00:00, 605.20it/s]\n",
      "Train loss: 0.0000: 100%|██████████| 11/11 [00:00<00:00, 583.43it/s]\n",
      "Test Iterations:  67%|██████▋   | 2/3 [00:00<00:00, 491.94it/s]\n",
      "Train loss: 0.0000: 100%|██████████| 11/11 [00:00<00:00, 659.82it/s]\n",
      "Test Iterations:  67%|██████▋   | 2/3 [00:00<00:00, 578.41it/s]\n",
      "Train loss: 0.0000: 100%|██████████| 11/11 [00:00<00:00, 570.20it/s]\n",
      "Test Iterations:  67%|██████▋   | 2/3 [00:00<00:00, 569.88it/s]\n",
      "Train loss: 0.0000: 100%|██████████| 11/11 [00:00<00:00, 583.06it/s]\n",
      "Test Iterations:  67%|██████▋   | 2/3 [00:00<00:00, 484.25it/s]\n",
      "Train loss: 0.0000: 100%|██████████| 11/11 [00:00<00:00, 410.65it/s]\n",
      "Test Iterations:  67%|██████▋   | 2/3 [00:00<00:00, 612.84it/s]\n",
      "Train loss: 0.0000: 100%|██████████| 11/11 [00:00<00:00, 601.33it/s]\n",
      "Test Iterations:  67%|██████▋   | 2/3 [00:00<00:00, 412.24it/s]\n",
      "Train loss: 0.0000: 100%|██████████| 11/11 [00:00<00:00, 577.79it/s]\n",
      "Test Iterations:  67%|██████▋   | 2/3 [00:00<00:00, 656.44it/s]\n",
      "Train loss: 0.0000: 100%|██████████| 11/11 [00:00<00:00, 561.99it/s]\n",
      "Test Iterations:  67%|██████▋   | 2/3 [00:00<00:00, 628.60it/s]\n",
      "Train loss: 0.0000: 100%|██████████| 11/11 [00:00<00:00, 578.31it/s]\n",
      "Test Iterations:  67%|██████▋   | 2/3 [00:00<00:00, 663.18it/s]\n",
      "Train loss: 0.0000: 100%|██████████| 11/11 [00:00<00:00, 535.98it/s]\n",
      "Test Iterations:  67%|██████▋   | 2/3 [00:00<00:00, 714.90it/s]\n",
      "Train loss: 0.0000: 100%|██████████| 11/11 [00:00<00:00, 570.35it/s]\n",
      "Test Iterations:  67%|██████▋   | 2/3 [00:00<00:00, 373.62it/s]\n",
      "Train loss: 0.0000: 100%|██████████| 11/11 [00:00<00:00, 650.87it/s]\n",
      "Test Iterations:  67%|██████▋   | 2/3 [00:00<00:00, 516.99it/s]\n",
      "Train loss: 0.0000: 100%|██████████| 11/11 [00:00<00:00, 582.62it/s]\n",
      "Test Iterations:  67%|██████▋   | 2/3 [00:00<00:00, 643.50it/s]\n",
      "Train loss: 0.0000: 100%|██████████| 11/11 [00:00<00:00, 574.45it/s]\n",
      "Test Iterations:  67%|██████▋   | 2/3 [00:00<00:00, 589.75it/s]\n",
      "Train loss: 0.0000: 100%|██████████| 11/11 [00:00<00:00, 584.38it/s]\n",
      "Test Iterations:  67%|██████▋   | 2/3 [00:00<00:00, 341.07it/s]\n",
      "Train loss: 0.0000: 100%|██████████| 11/11 [00:00<00:00, 570.12it/s]\n",
      "Test Iterations:  67%|██████▋   | 2/3 [00:00<00:00, 629.49it/s]\n",
      "Train loss: 0.0000: 100%|██████████| 11/11 [00:00<00:00, 572.01it/s]\n",
      "Test Iterations:  67%|██████▋   | 2/3 [00:00<00:00, 706.71it/s]\n",
      "Train loss: 0.0000: 100%|██████████| 11/11 [00:00<00:00, 589.02it/s]\n",
      "Test Iterations:  67%|██████▋   | 2/3 [00:00<00:00, 701.51it/s]\n",
      "Train loss: 0.0000: 100%|██████████| 11/11 [00:00<00:00, 586.68it/s]\n",
      "Test Iterations:  67%|██████▋   | 2/3 [00:00<00:00, 601.08it/s]\n",
      "Train loss: 0.0000: 100%|██████████| 11/11 [00:00<00:00, 624.44it/s]\n",
      "Test Iterations:  67%|██████▋   | 2/3 [00:00<00:00, 461.78it/s]\n",
      "Train loss: 0.0000: 100%|██████████| 11/11 [00:00<00:00, 584.71it/s]\n",
      "Test Iterations:  67%|██████▋   | 2/3 [00:00<00:00, 638.50it/s]\n",
      "Train loss: 0.0000: 100%|██████████| 11/11 [00:00<00:00, 624.10it/s]\n",
      "Test Iterations:  67%|██████▋   | 2/3 [00:00<00:00, 588.14it/s]\n",
      "Train loss: 0.0000: 100%|██████████| 11/11 [00:00<00:00, 537.26it/s]\n",
      "Test Iterations:  67%|██████▋   | 2/3 [00:00<00:00, 722.97it/s]"
     ]
    },
    {
     "name": "stdout",
     "output_type": "stream",
     "text": [
      "Finished training!\n"
     ]
    },
    {
     "name": "stderr",
     "output_type": "stream",
     "text": [
      "\n"
     ]
    }
   ],
   "source": [
    "graph_ld = tf.Graph()\n",
    "with graph_ld.as_default():\n",
    "    with tf.variable_scope( 'fine_tune' ):\n",
    "        w = tf.get_variable( \n",
    "            'matrix', \n",
    "            shape=(NUM_FEATURES, NUM_CLASSES), \n",
    "            dtype=tf.float32, \n",
    "            initializer=tf.initializers.random_normal\n",
    "        )\n",
    "        \n",
    "        b = tf.get_variable( \n",
    "            'bias', \n",
    "            shape=(NUM_CLASSES,), \n",
    "            dtype=tf.float32, \n",
    "            initializer=tf.initializers.random_normal\n",
    "        )\n",
    "    \n",
    "    with tf.variable_scope( 'opt' ):\n",
    "        global_step = tf.Variable( 0, trainable=False )\n",
    "        learning_rate = tf.train.exponential_decay( \n",
    "            learning_rate=0.0005, \n",
    "            global_step=global_step, \n",
    "            decay_steps=( 100000 // ( batch_size ) ), \n",
    "            decay_rate=0.95, \n",
    "            staircase=True \n",
    "        )\n",
    "        \n",
    "#         opt = tf.train.MomentumOptimizer( learning_rate=learning_rate, momentum=0.9 ) #.minimize( loss )\n",
    "#         opt = tf.train.AdamOptimizer( learning_rate=learning_rate, beta1=0.9, beta2=0.99 ) #.minimize( loss )\n",
    "        opt = tf.train.RMSPropOptimizer( learning_rate ) #.minimize( loss )\n",
    "        \n",
    "    with tf.Session(graph=graph_ld) as sess:\n",
    "#         sess.run( tf.initializers.global_variables() )\n",
    "        sess.run( tf.initialize_all_variables() )\n",
    "        \n",
    "        print( \"Restoring model...\" )\n",
    "        tf.saved_model.loader.load(\n",
    "            sess,\n",
    "            [tag_constants.SERVING],\n",
    "            model_path\n",
    "        )\n",
    "        print( 'restored!')\n",
    "        \n",
    "        inputs_ph      = graph_ld.get_tensor_by_name( 'inputs:0' )\n",
    "        cards_ph       = graph_ld.get_tensor_by_name( 'cards:0' )\n",
    "        ys_ph          = graph_ld.get_tensor_by_name( 'ys:0' )\n",
    "        is_training_ph = graph_ld.get_tensor_by_name( 'is_training:0' )\n",
    "        \n",
    "        labels = tf.one_hot( ys_ph, depth=NUM_CLASSES )\n",
    "        \n",
    "        # Get the feature layer and lock the parameters down\n",
    "        features = tf.stop_gradient(\n",
    "            graph_ld.get_tensor_by_name( 'tens/reduce/normed_tensor:0' )\n",
    "        )\n",
    "        \n",
    "        # Logits from a linear combination of features (super simple)\n",
    "        # Replaces the original operation with a similar operation\n",
    "        logits = tf.matmul( features, w ) + b\n",
    "        \n",
    "        loss = tf.nn.softmax_cross_entropy_with_logits(\n",
    "            logits=logits, labels=labels\n",
    "        )\n",
    "        \n",
    "        est = tf.nn.softmax( logits )\n",
    "        \n",
    "        avg_loss = tf.reduce_mean( loss )\n",
    "        train_op = opt.minimize( avg_loss )\n",
    "        \n",
    "        # Initialize the optimizer's parameters\n",
    "        var_list = tf.get_collection( tf.GraphKeys.TRAINABLE_VARIABLES )\n",
    "        tmp = [opt.get_slot(var, name) for name in opt.get_slot_names() for var in var_list]\n",
    "        opt_init_list = [x for x in tmp if x is not None] # remove Nones\n",
    "        opt_reset = tf.variables_initializer( opt_init_list )\n",
    "        \n",
    "        sess.run( opt_reset )\n",
    "        \n",
    "        print( \"Begin training!\" )\n",
    "        epoch_train_loss = []\n",
    "        epoch_test_loss  = []\n",
    "        \n",
    "        final_est = []\n",
    "        final_lbl = []\n",
    "        \n",
    "        epoch_train_acc = []\n",
    "        epoch_test_acc  = []\n",
    "        for ee in range( EPOCHS ): # 1 ): # \n",
    "            \n",
    "            run_acc  = []\n",
    "            run_loss = []\n",
    "            train_data = retrain_fetcher.train_data( loss_val )\n",
    "            for inps, cs, ms in train_data:\n",
    "                feed_dict = {\n",
    "                    inputs_ph: inps, \n",
    "                    cards_ph: cs, \n",
    "                    ys_ph: ms, \n",
    "                    is_training_ph: False\n",
    "                }\n",
    "                _, est_, labels_, loss_ = sess.run( \n",
    "                    [train_op, est, labels, avg_loss], \n",
    "                    feed_dict=feed_dict\n",
    "                )\n",
    "                \n",
    "                est_ = np.round( est_ )\n",
    "                acc = 1 - 0.5 * np.mean( np.abs( est_ - labels_ ) )\n",
    "                \n",
    "                run_acc.append( acc )\n",
    "                run_loss.append( loss_ )\n",
    "            epoch_train_loss.append( np.array( run_loss ) )\n",
    "            epoch_train_acc.append( run_acc )\n",
    "            \n",
    "            cnt = 0\n",
    "            run_acc  = []\n",
    "            run_loss = []\n",
    "            test_data = retrain_fetcher.test_data()\n",
    "            for inps, cs, ms in test_data:\n",
    "                cnt += 1\n",
    "                \n",
    "                feed_dict = {\n",
    "                    inputs_ph: inps, \n",
    "                    cards_ph: cs, \n",
    "                    ys_ph: ms, \n",
    "                    is_training_ph: False\n",
    "                }\n",
    "                est_, labels_, loss_ = sess.run( \n",
    "                    [est, labels, avg_loss], \n",
    "                    feed_dict=feed_dict\n",
    "                )\n",
    "                \n",
    "                if ( ee+1 == EPOCHS ):\n",
    "                    final_est.append( est_ )\n",
    "                    final_lbl.append( labels_ )\n",
    "                    \n",
    "                est_ = np.round( est_ )\n",
    "                acc = 1 - 0.5 * np.mean( np.abs( est_ - labels_ ) )\n",
    "                \n",
    "                run_acc.append( acc )\n",
    "                run_loss.append( loss_ )\n",
    "            epoch_test_acc.append( np.array( run_acc ) )\n",
    "            epoch_test_loss.append( np.array( run_loss ) )\n",
    "            \n",
    "        epoch_train_acc = np.concatenate( epoch_train_acc, axis=0 )\n",
    "        epoch_test_acc  = np.concatenate( epoch_test_acc,  axis=0 )\n",
    "        \n",
    "        epoch_train_loss = np.concatenate( epoch_train_loss, axis=0 )\n",
    "        epoch_test_loss  = np.concatenate( epoch_test_loss,  axis=0 )\n",
    "\n",
    "est = np.concatenate( final_est, axis=0 )\n",
    "lbl = np.concatenate( final_lbl, axis=0 )\n",
    "\n",
    "print( 'Finished training!' )"
   ]
  },
  {
   "cell_type": "code",
   "execution_count": 9,
   "metadata": {},
   "outputs": [
    {
     "data": {
      "text/plain": [
       "<matplotlib.legend.Legend at 0x7ff025fdc9e8>"
      ]
     },
     "execution_count": 9,
     "metadata": {},
     "output_type": "execute_result"
    },
    {
     "data": {
      "image/png": "[encoded data removed]",
      "text/plain": [
       "<Figure size 432x288 with 1 Axes>"
      ]
     },
     "metadata": {
      "needs_background": "light"
     },
     "output_type": "display_data"
    }
   ],
   "source": [
    "fig0 = plt.figure( )\n",
    "ax0 = fig0.add_subplot( 1, 1, 1 )\n",
    "ax0.plot( np.mean( np.reshape( epoch_train_loss, (EPOCHS,-1) ), axis=1 ) )\n",
    "ax0.plot( np.mean( np.reshape( epoch_test_loss,  (EPOCHS,-1) ), axis=1 ) )\n",
    "\n",
    "ax0.grid( True )\n",
    "ax0.set_xlim( (0,EPOCHS) )\n",
    "ax0.set_ylim( bottom=0 )\n",
    "\n",
    "ax0.tick_params( axis='both', which='major', labelsize=12 )\n",
    "ax0.set_xlabel( \"Training Epochs\" )\n",
    "ax0.set_ylabel( \"Loss (Cross-Entropy)\" )\n",
    "ax0.set_title( \"ModelNet Hold Out Loss\" )\n",
    "ax0.legend( (\"Train\", \"Test\"), loc=\"upper right\", fontsize=\"large\" )\n",
    "\n",
    "# fig0.savefig( os.path.join( img_path, 'loss.png' ), dpi=216, format='png' )"
   ]
  },
  {
   "cell_type": "code",
   "execution_count": 10,
   "metadata": {},
   "outputs": [
    {
     "data": {
      "text/plain": [
       "<matplotlib.legend.Legend at 0x7ff025f6ff98>"
      ]
     },
     "execution_count": 10,
     "metadata": {},
     "output_type": "execute_result"
    },
    {
     "data": {
      "image/png": "[encoded data removed]",
      "text/plain": [
       "<Figure size 432x288 with 1 Axes>"
      ]
     },
     "metadata": {
      "needs_background": "light"
     },
     "output_type": "display_data"
    }
   ],
   "source": [
    "fig1 = plt.figure( )\n",
    "ax1 = fig1.add_subplot( 1, 1, 1 )\n",
    "ax1.plot( np.mean( np.reshape( epoch_train_acc, (EPOCHS,-1) ), axis=1 ) )\n",
    "ax1.plot( np.mean( np.reshape( epoch_test_acc,  (EPOCHS,-1) ), axis=1 ) )\n",
    "\n",
    "ax1.grid( True )\n",
    "ax1.set_xlim( (0,EPOCHS) )\n",
    "ax1.set_ylim( (0.5,1.0) )\n",
    "\n",
    "ax1.tick_params( axis='both', which='major', labelsize=12 )\n",
    "ax1.set_xlabel( \"Training Epochs\", fontsize=\"large\" )\n",
    "ax1.set_ylabel( \"Accuracy\", fontsize=\"large\" )\n",
    "ax1.set_title( \"ModelNet Hold Out Accuracy\", fontsize=\"large\" )\n",
    "ax1.legend( (\"Train\", \"Test\"), loc=\"lower right\", fontsize=\"large\" )\n",
    "\n",
    "# fig1.savefig( os.path.join( img_path, 'acc.png' ), dpi=216, format='png' )"
   ]
  },
  {
   "cell_type": "code",
   "execution_count": 11,
   "metadata": {},
   "outputs": [],
   "source": [
    "fpr = dict()\n",
    "tpr = dict()\n",
    "roc_auc = dict()\n",
    "for i in range( 2 ):\n",
    "    fpr[i], tpr[i], _ = roc_curve(lbl[:, i], est[:, i])\n",
    "    roc_auc[i] = auc(fpr[i], tpr[i])"
   ]
  },
  {
   "cell_type": "code",
   "execution_count": 12,
   "metadata": {},
   "outputs": [],
   "source": [
    "def make_roc_fig( C ):\n",
    "    fig = plt.figure()\n",
    "    ax  = fig.add_subplot( 1, 1, 1 )\n",
    "    ax.plot([0, 1], [0, 1], color='black', lw=2, linestyle='--')\n",
    "    ax.plot( fpr[C], tpr[C] )\n",
    "\n",
    "    ax.grid( True )\n",
    "    ax.set_xlim( (0,1) )\n",
    "    ax.set_ylim( (0,1) )\n",
    "\n",
    "    ax.tick_params( axis='both', which='major', labelsize=12 )\n",
    "    ax.set_xlabel( \"False Positives\", fontsize=\"large\" )\n",
    "    ax.set_ylabel( \"True Positives\", fontsize=\"large\" )\n",
    "    ax.set_title( \"Class {}: AUC={}\".format( C, np.round( roc_auc[C], decimals=2 ) ), \n",
    "                 fontsize=\"large\" )\n",
    "    \n",
    "    return fig"
   ]
  },
  {
   "cell_type": "code",
   "execution_count": 15,
   "metadata": {},
   "outputs": [
    {
     "data": {
      "image/png": "[encoded data removed]",
      "text/plain": [
       "<Figure size 432x288 with 1 Axes>"
      ]
     },
     "metadata": {
      "needs_background": "light"
     },
     "output_type": "display_data"
    }
   ],
   "source": [
    "fig = make_roc_fig( 0 )\n",
    "# fig.savefig( os.path.join( img_path, 'roc_0.png' ), dpi=216, format='png' )"
   ]
  },
  {
   "cell_type": "code",
   "execution_count": 16,
   "metadata": {},
   "outputs": [
    {
     "data": {
      "image/png": "[encoded data removed]",
      "text/plain": [
       "<Figure size 432x288 with 1 Axes>"
      ]
     },
     "metadata": {
      "needs_background": "light"
     },
     "output_type": "display_data"
    }
   ],
   "source": [
    "fig = make_roc_fig( 1 )\n",
    "# fig.savefig( os.path.join( img_path, 'roc_1.png' ), dpi=216, format='png' )"
   ]
  },
  {
   "cell_type": "code",
   "execution_count": null,
   "metadata": {},
   "outputs": [],
   "source": []
  }
 ],
 "metadata": {
  "kernelspec": {
   "display_name": "Python 3",
   "language": "python",
   "name": "python3"
  },
  "language_info": {
   "codemirror_mode": {
    "name": "ipython",
    "version": 3
   },
   "file_extension": ".py",
   "mimetype": "text/x-python",
   "name": "python",
   "nbconvert_exporter": "python",
   "pygments_lexer": "ipython3",
   "version": "3.6.3"
  }
 },
 "nbformat": 4,
 "nbformat_minor": 2
}
