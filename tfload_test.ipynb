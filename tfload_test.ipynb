{
 "cells": [
  {
   "cell_type": "code",
   "execution_count": 1,
   "metadata": {},
   "outputs": [
    {
     "name": "stdout",
     "output_type": "stream",
     "text": [
      "The tensorflow version is 1.11.0.\n"
     ]
    }
   ],
   "source": [
    "import numpy as np\n",
    "\n",
    "import tensorflow as tf\n",
    "from tensorflow.python.saved_model import tag_constants\n",
    "\n",
    "from setlearn.data import modelnet as dmodel\n",
    "\n",
    "print( \"The tensorflow version is {}.\".format( tf.__version__ ) )"
   ]
  },
  {
   "cell_type": "code",
   "execution_count": 2,
   "metadata": {},
   "outputs": [],
   "source": [
    "EPOCHS = 50"
   ]
  },
  {
   "cell_type": "code",
   "execution_count": 3,
   "metadata": {},
   "outputs": [],
   "source": [
    "model_path = './model_test_43/'\n",
    "data_path  = './data/ModelNet38_cloud.h5'\n",
    "\n",
    "batch_size = 128"
   ]
  },
  {
   "cell_type": "code",
   "execution_count": 4,
   "metadata": {},
   "outputs": [
    {
     "name": "stdout",
     "output_type": "stream",
     "text": [
      "Restoring model...\n",
      "INFO:tensorflow:Restoring parameters from ./model_test_43/variables/variables\n",
      "restored!\n"
     ]
    }
   ],
   "source": [
    "graph_ld = tf.Graph()\n",
    "with graph_ld.as_default():\n",
    "    with tf.Session( graph=graph_ld ) as sess:\n",
    "        print( \"Restoring model...\" )\n",
    "        tf.saved_model.loader.load(\n",
    "            sess,\n",
    "            [tag_constants.SERVING],\n",
    "            model_path\n",
    "        )\n",
    "        print( 'restored!')\n",
    "        \n",
    "        inputs_ph      = graph_ld.get_tensor_by_name( 'inputs:0' )\n",
    "        cards_ph       = graph_ld.get_tensor_by_name( 'cards:0' )\n",
    "        ys_ph          = graph_ld.get_tensor_by_name( 'ys:0' )\n",
    "        is_training_ph = graph_ld.get_tensor_by_name( 'is_training:0' )\n",
    "        \n",
    "        features = graph_ld.get_tensor_by_name( 'permequiv3/point_feats/fc_net/out/bias:0' )\n",
    "        \n",
    "        tmp0 = graph_ld.get_tensor_by_name( 'SparseSoftmaxCrossEntropyWithLogits/SparseSoftmaxCrossEntropyWithLogits:0' )\n",
    "        tmp1 = graph_ld.get_tensor_by_name( 'fc_net/add:0')\n",
    "        \n",
    "#         print( graph_ld.as_graph_def() )\n",
    "#         print( tf.all_variables() )\n",
    "#         print( tf.trainable_variables() )"
   ]
  },
  {
   "cell_type": "code",
   "execution_count": 5,
   "metadata": {},
   "outputs": [
    {
     "data": {
      "text/plain": [
       "<tf.Tensor 'permequiv3/point_feats/fc_net/out/bias:0' shape=(256,) dtype=float32_ref>"
      ]
     },
     "execution_count": 5,
     "metadata": {},
     "output_type": "execute_result"
    }
   ],
   "source": [
    "features"
   ]
  },
  {
   "cell_type": "code",
   "execution_count": 6,
   "metadata": {},
   "outputs": [],
   "source": [
    "rfetcher = dmodel.ModelFetcher( \n",
    "    data_path, \n",
    "    batch_size=batch_size, \n",
    ")\n",
    "fixed_features = tf.stop_gradient( features )"
   ]
  },
  {
   "cell_type": "markdown",
   "metadata": {},
   "source": [
    "graph_ld = tf.Graph()\n",
    "with graph_ld.as_default():\n",
    "    with tf.Session( graph=graph_ld ) as sess:\n",
    "        print( \"Restoring model...\" )\n",
    "        tf.saved_model.loader.load(\n",
    "            sess,\n",
    "            [tag_constants.SERVING],\n",
    "            model_path\n",
    "        )\n",
    "        print( 'restored!')\n",
    "        \n",
    "        inputs_ph      = graph_ld.get_tensor_by_name( 'inputs:0' )\n",
    "        cards_ph       = graph_ld.get_tensor_by_name( 'cards:0' )\n",
    "        ys_ph          = graph_ld.get_tensor_by_name( 'ys:0' )\n",
    "        is_training_ph = graph_ld.get_tensor_by_name( 'is_training:0' )\n",
    "        \n",
    "        features = graph_ld.get_tensor_by_name( 'permequiv3/point_feats/fc_net/out/bias:0' )\n",
    "        \n",
    "        for ee in range( EPOCHS ):\n",
    "            "
   ]
  },
  {
   "cell_type": "code",
   "execution_count": 7,
   "metadata": {},
   "outputs": [
    {
     "name": "stdout",
     "output_type": "stream",
     "text": [
      "Restoring model...\n",
      "INFO:tensorflow:Restoring parameters from ./model_test_43/variables/variables\n",
      "restored!\n",
      "WARNING:tensorflow:From <ipython-input-7-f106e44cf30e>:26: softmax_cross_entropy_with_logits (from tensorflow.python.ops.nn_ops) is deprecated and will be removed in a future version.\n",
      "Instructions for updating:\n",
      "\n",
      "Future major versions of TensorFlow will allow gradients to flow\n",
      "into the labels input on backprop by default.\n",
      "\n",
      "See `tf.nn.softmax_cross_entropy_with_logits_v2`.\n",
      "\n"
     ]
    },
    {
     "name": "stderr",
     "output_type": "stream",
     "text": [
      "Train loss: 0.0000: 100%|██████████| 67/67 [00:03<00:00, 19.13it/s]"
     ]
    },
    {
     "name": "stdout",
     "output_type": "stream",
     "text": [
      "Finished training!\n"
     ]
    },
    {
     "name": "stderr",
     "output_type": "stream",
     "text": [
      "\n"
     ]
    }
   ],
   "source": [
    "loss_val = 0 # initialize loss value\n",
    "with graph_ld.as_default():\n",
    "    with tf.Session(graph=graph_ld) as sess:\n",
    "        \n",
    "        print( \"Restoring model...\" )\n",
    "        tf.saved_model.loader.load(\n",
    "            sess,\n",
    "            [tag_constants.SERVING],\n",
    "            model_path\n",
    "        )\n",
    "        print( 'restored!')\n",
    "        \n",
    "        inputs_ph      = graph_ld.get_tensor_by_name( 'inputs:0' )\n",
    "        cards_ph       = graph_ld.get_tensor_by_name( 'cards:0' )\n",
    "        ys_ph          = graph_ld.get_tensor_by_name( 'ys:0' )\n",
    "        is_training_ph = graph_ld.get_tensor_by_name( 'is_training:0' )\n",
    "        \n",
    "        features = tf.stop_gradient(\n",
    "            graph_ld.get_tensor_by_name( 'tens/reduce/normed_tensor:0' )\n",
    "        )\n",
    "        \n",
    "        labels = tf.one_hot( ys_ph, depth=40 )\n",
    "        logits = graph_ld.get_tensor_by_name( 'fc_net/add:0' )\n",
    "        \n",
    "        loss = tf.nn.softmax_cross_entropy_with_logits(\n",
    "            logits=logits, labels=labels\n",
    "        )\n",
    "        \n",
    "        avg_loss = tf.reduce_mean( loss )\n",
    "        \n",
    "        for ee in range( 1 ): # EPOCHS ):\n",
    "            \n",
    "            train_data = rfetcher.train_data( loss_val )\n",
    "            for inps, cs, ms in train_data:\n",
    "                feed_dict = {\n",
    "                    inputs_ph: inps, \n",
    "                    cards_ph: cs, \n",
    "                    ys_ph: ms, \n",
    "                    is_training_ph: False\n",
    "                }\n",
    "                logits_, labels_, loss_, feat_ = sess.run( \n",
    "                    [logits, labels, avg_loss, features], \n",
    "                    feed_dict=feed_dict\n",
    "                )\n",
    "                \n",
    "print( 'Finished training!' )"
   ]
  },
  {
   "cell_type": "code",
   "execution_count": 8,
   "metadata": {},
   "outputs": [
    {
     "data": {
      "text/plain": [
       "0"
      ]
     },
     "execution_count": 8,
     "metadata": {},
     "output_type": "execute_result"
    }
   ],
   "source": [
    "loss_val"
   ]
  },
  {
   "cell_type": "code",
   "execution_count": 9,
   "metadata": {},
   "outputs": [
    {
     "data": {
      "text/plain": [
       "()"
      ]
     },
     "execution_count": 9,
     "metadata": {},
     "output_type": "execute_result"
    }
   ],
   "source": [
    "np.shape( loss_val )"
   ]
  },
  {
   "cell_type": "code",
   "execution_count": null,
   "metadata": {},
   "outputs": [],
   "source": []
  }
 ],
 "metadata": {
  "kernelspec": {
   "display_name": "Python 3",
   "language": "python",
   "name": "python3"
  },
  "language_info": {
   "codemirror_mode": {
    "name": "ipython",
    "version": 3
   },
   "file_extension": ".py",
   "mimetype": "text/x-python",
   "name": "python",
   "nbconvert_exporter": "python",
   "pygments_lexer": "ipython3",
   "version": "3.6.3"
  }
 },
 "nbformat": 4,
 "nbformat_minor": 2
}
