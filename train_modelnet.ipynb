{
 "cells": [
  {
   "cell_type": "code",
   "execution_count": 1,
   "metadata": {},
   "outputs": [],
   "source": [
    "import setlearn.experiments.modelnet as mnet"
   ]
  },
  {
   "cell_type": "code",
   "execution_count": 2,
   "metadata": {},
   "outputs": [
    {
     "name": "stderr",
     "output_type": "stream",
     "text": [
      "usage: ipykernel_launcher.py [-h] [--GPUS GPUS [GPUS ...]]\n",
      "                             [--data_dir DATA_DIR] [--train TRAIN]\n",
      "                             [--num_epochs NUM_EPOCHS]\n",
      "                             [--decay_epochs DECAY_EPOCHS]\n",
      "                             [--decay_rate DECAY_RATE]\n",
      "                             [--load_model LOAD_MODEL]\n",
      "                             [--model_path MODEL_PATH]\n",
      "                             [--batch_size BATCH_SIZE] [--optimizer OPTIMIZER]\n",
      "                             [--init_lr INIT_LR]\n",
      "                             [--dropout_keepprob DROPOUT_KEEPPROB]\n",
      "                             [--embed_size EMBED_SIZE]\n",
      "                             [--hidden_sizes HIDDEN_SIZES [HIDDEN_SIZES ...]]\n",
      "                             [--activation_func ACTIVATION_FUNC]\n",
      "                             [--reduction REDUCTION]\n",
      "                             [--combination COMBINATION]\n",
      "                             [--pool_point_feats POOL_POINT_FEATS]\n",
      "                             [--do_batch_norm] [--irange IRANGE]\n",
      "                             [--architecture ARCHITECTURE]\n",
      "                             [--do_standardization] [--do_norm_std]\n",
      "                             [--do_augmentation]\n",
      "                             [--output_hidden_sizes OUTPUT_HIDDEN_SIZES [OUTPUT_HIDDEN_SIZES ...]]\n",
      "                             [--do_classification] [--use_pca]\n",
      "                             [--pcadims PCADIMS] [--perc_var PERC_VAR]\n",
      "                             [--nn_method NN_METHOD] [--k K]\n",
      "                             [--use_knn_ys USE_KNN_YS]\n",
      "                             [--use_init_input_fcnet USE_INIT_INPUT_FCNET]\n",
      "                             [--use_inputs_in_set USE_INPUTS_IN_SET]\n",
      "                             [--use_inputs_in_fcnet USE_INPUTS_IN_FCNET]\n",
      "                             [--do_knn] [--use_knn_in_fcnet]\n",
      "ipykernel_launcher.py: error: unrecognized arguments: -f /home/jovyan/.local/share/jupyter/runtime/kernel-ad3a5334-9b70-4a88-a80f-9c19bc92afd3.json\n"
     ]
    },
    {
     "ename": "SystemExit",
     "evalue": "2",
     "output_type": "error",
     "traceback": [
      "An exception has occurred, use %tb to see the full traceback.\n",
      "\u001b[0;31mSystemExit\u001b[0m\u001b[0;31m:\u001b[0m 2\n"
     ]
    },
    {
     "name": "stderr",
     "output_type": "stream",
     "text": [
      "/opt/conda/lib/python3.6/site-packages/IPython/core/interactiveshell.py:3273: UserWarning: To exit: use 'exit', 'quit', or Ctrl-D.\n",
      "  warn(\"To exit: use 'exit', 'quit', or Ctrl-D.\", stacklevel=1)\n"
     ]
    }
   ],
   "source": [
    "mnet.main(data_dir='./data/ModelNet40_cloud.h5', do_standardization=True, architecture='deepsets', batch_size=256, init_lr=1e-2, decay_rate=0.8)"
   ]
  },
  {
   "cell_type": "code",
   "execution_count": null,
   "metadata": {},
   "outputs": [],
   "source": []
  }
 ],
 "metadata": {
  "kernelspec": {
   "display_name": "Python 3",
   "language": "python",
   "name": "python3"
  },
  "language_info": {
   "codemirror_mode": {
    "name": "ipython",
    "version": 3
   },
   "file_extension": ".py",
   "mimetype": "text/x-python",
   "name": "python",
   "nbconvert_exporter": "python",
   "pygments_lexer": "ipython3",
   "version": "3.6.3"
  }
 },
 "nbformat": 4,
 "nbformat_minor": 2
}
